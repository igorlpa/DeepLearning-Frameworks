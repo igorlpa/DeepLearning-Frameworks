{
 "cells": [
  {
   "cell_type": "markdown",
   "id": "95fc9b59-3c30-45c1-bafa-8f7069be4bb4",
   "metadata": {},
   "source": [
    "# Introdução ao PyTorch"
   ]
  },
  {
   "cell_type": "code",
   "execution_count": 1,
   "id": "95bb17c6-a82a-4a44-9dd5-cfc5b38fb497",
   "metadata": {},
   "outputs": [],
   "source": [
    "import torch"
   ]
  },
  {
   "cell_type": "markdown",
   "id": "2a872d7a-af06-4dd2-b7d2-0fb281175890",
   "metadata": {},
   "source": [
    "## Perceptron básico\n",
    "\n",
    "Implmentando o neuronio mais simples, de forma mais simples"
   ]
  },
  {
   "cell_type": "code",
   "execution_count": 2,
   "id": "5d8438dd-f5c4-41e6-9be0-79091f02eb13",
   "metadata": {},
   "outputs": [],
   "source": [
    "def activation(x):\n",
    "    \"\"\"\n",
    "    Função que realiza o calculo da sigmoid\n",
    "    :param x: torch.Tensor\n",
    "    \"\"\"\n",
    "    return 1/(1+torch.exp(-x))"
   ]
  },
  {
   "cell_type": "code",
   "execution_count": 3,
   "id": "831dbdcd-b2b5-46d6-993c-e882f9cbbfea",
   "metadata": {},
   "outputs": [
    {
     "name": "stdout",
     "output_type": "stream",
     "text": [
      "features tensor([[-0.1468,  0.7861,  0.9468, -1.1143,  1.6908]])\n",
      "wights tensor([[-0.8948, -0.3556,  1.2324,  0.1382, -1.6822]])\n",
      "bias tensor([[0.3177]])\n"
     ]
    }
   ],
   "source": [
    "# Dedinir seed para os valores randomicos que serão usados\n",
    "torch.manual_seed(7)\n",
    "\n",
    "\n",
    "# gerando uma matriz com 5 valores aleatorios\n",
    "features = torch.randn((1,5))\n",
    "print ('features', features)\n",
    "\n",
    "# novos valores aleatorios baseados no formato do tensor passado como parametro\n",
    "weights = torch.randn_like(features)\n",
    "print ('wights', weights)\n",
    "\n",
    "bias = torch.randn((1,1))\n",
    "print ('bias', bias)\n"
   ]
  },
  {
   "cell_type": "code",
   "execution_count": 4,
   "id": "83436116-c573-4e9f-ac4c-fbff2520cbc4",
   "metadata": {},
   "outputs": [
    {
     "data": {
      "text/plain": [
       "tensor(-1.9796)"
      ]
     },
     "execution_count": 4,
     "metadata": {},
     "output_type": "execute_result"
    }
   ],
   "source": [
    "(features*weights).sum() "
   ]
  },
  {
   "cell_type": "code",
   "execution_count": 5,
   "id": "ebc873c9-8596-4395-b5e7-8dc4147bf4b9",
   "metadata": {},
   "outputs": [],
   "source": [
    "def perceptron(features, weights, bias):\n",
    "    value = (features*weights).sum() + bias\n",
    "    return activation(value)"
   ]
  },
  {
   "cell_type": "code",
   "execution_count": 6,
   "id": "52118d39-1873-4879-a77d-84697b0131fb",
   "metadata": {},
   "outputs": [
    {
     "data": {
      "text/plain": [
       "tensor([[0.1595]])"
      ]
     },
     "execution_count": 6,
     "metadata": {},
     "output_type": "execute_result"
    }
   ],
   "source": [
    "perceptron(features, weights, bias)"
   ]
  },
  {
   "cell_type": "markdown",
   "id": "eee73fcd-c879-4f47-8653-4c1a839efe8d",
   "metadata": {},
   "source": [
    "## Perceptron básico usando multiplicação de matrizes"
   ]
  },
  {
   "cell_type": "code",
   "execution_count": 7,
   "id": "72fbbf29-c883-430d-9c2d-067a44c445c4",
   "metadata": {},
   "outputs": [],
   "source": [
    "def perceptron_m(features, weights, bias):\n",
    "    w = weights.view(weights.shape[::-1]) # corrigindo o formato para a multiplcação de matrizes\n",
    "    value = torch.mm(features, w) + bias\n",
    "    return activation(value)"
   ]
  },
  {
   "cell_type": "code",
   "execution_count": 8,
   "id": "30e9b1cf-1c1d-4b8e-ae74-87c71e67f909",
   "metadata": {},
   "outputs": [
    {
     "data": {
      "text/plain": [
       "tensor([[0.1595]])"
      ]
     },
     "execution_count": 8,
     "metadata": {},
     "output_type": "execute_result"
    }
   ],
   "source": [
    "perceptron_m(features, weights, bias)"
   ]
  },
  {
   "cell_type": "markdown",
   "id": "4f55ab7c-52a1-4708-a14c-b6f4e8fbde43",
   "metadata": {},
   "source": [
    "## Pytorch e Numpy"
   ]
  },
  {
   "cell_type": "code",
   "execution_count": 9,
   "id": "f282b530-0b50-454b-90bd-2415a4f10439",
   "metadata": {},
   "outputs": [],
   "source": [
    "import numpy as np"
   ]
  },
  {
   "cell_type": "code",
   "execution_count": 11,
   "id": "be6adc33-d0e7-418d-886f-d3a83ea8e079",
   "metadata": {},
   "outputs": [
    {
     "data": {
      "text/plain": [
       "array([[0.48936823, 0.56241628],\n",
       "       [0.39189073, 0.80232465],\n",
       "       [0.15762504, 0.44682915]])"
      ]
     },
     "execution_count": 11,
     "metadata": {},
     "output_type": "execute_result"
    }
   ],
   "source": [
    "a = np.random.rand(3,2)\n",
    "a"
   ]
  },
  {
   "cell_type": "code",
   "execution_count": 12,
   "id": "99e278c3-3018-47b1-a3ea-112d91a7c377",
   "metadata": {},
   "outputs": [
    {
     "data": {
      "text/plain": [
       "tensor([[0.4894, 0.5624],\n",
       "        [0.3919, 0.8023],\n",
       "        [0.1576, 0.4468]], dtype=torch.float64)"
      ]
     },
     "execution_count": 12,
     "metadata": {},
     "output_type": "execute_result"
    }
   ],
   "source": [
    "b = torch.from_numpy(a)\n",
    "b"
   ]
  },
  {
   "cell_type": "code",
   "execution_count": 13,
   "id": "4dd41cdd-0d88-4b04-9bf9-5a744aec50e4",
   "metadata": {},
   "outputs": [
    {
     "data": {
      "text/plain": [
       "array([[0.48936823, 0.56241628],\n",
       "       [0.39189073, 0.80232465],\n",
       "       [0.15762504, 0.44682915]])"
      ]
     },
     "execution_count": 13,
     "metadata": {},
     "output_type": "execute_result"
    }
   ],
   "source": [
    "b.numpy()"
   ]
  },
  {
   "cell_type": "markdown",
   "id": "a83985f1-1a74-4468-b350-ec67970e0158",
   "metadata": {},
   "source": [
    "Os dados são compartilhados, então a alteração de um afeta o outro"
   ]
  },
  {
   "cell_type": "code",
   "execution_count": 14,
   "id": "e947330f-a6b3-41d9-a068-3a21f0829df8",
   "metadata": {},
   "outputs": [
    {
     "data": {
      "text/plain": [
       "tensor([[0.9787, 1.1248],\n",
       "        [0.7838, 1.6046],\n",
       "        [0.3153, 0.8937]], dtype=torch.float64)"
      ]
     },
     "execution_count": 14,
     "metadata": {},
     "output_type": "execute_result"
    }
   ],
   "source": [
    "b.mul_(2)"
   ]
  },
  {
   "cell_type": "code",
   "execution_count": 15,
   "id": "43c40d4c-2f73-46b8-887d-53122a091a1a",
   "metadata": {},
   "outputs": [
    {
     "data": {
      "text/plain": [
       "array([[0.97873645, 1.12483256],\n",
       "       [0.78378146, 1.6046493 ],\n",
       "       [0.31525009, 0.89365829]])"
      ]
     },
     "execution_count": 15,
     "metadata": {},
     "output_type": "execute_result"
    }
   ],
   "source": [
    "a"
   ]
  },
  {
   "cell_type": "code",
   "execution_count": null,
   "id": "4a08cb11-e801-4fc4-97c8-7f4771a97f5b",
   "metadata": {},
   "outputs": [],
   "source": []
  }
 ],
 "metadata": {
  "kernelspec": {
   "display_name": "Python 3 (ipykernel)",
   "language": "python",
   "name": "python3"
  },
  "language_info": {
   "codemirror_mode": {
    "name": "ipython",
    "version": 3
   },
   "file_extension": ".py",
   "mimetype": "text/x-python",
   "name": "python",
   "nbconvert_exporter": "python",
   "pygments_lexer": "ipython3",
   "version": "3.10.9"
  }
 },
 "nbformat": 4,
 "nbformat_minor": 5
}
