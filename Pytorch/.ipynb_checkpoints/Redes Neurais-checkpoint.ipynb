{
 "cells": [
  {
   "cell_type": "markdown",
   "id": "d590de71-7749-424c-a695-9714f27d7418",
   "metadata": {},
   "source": [
    "# Redes Neurais com Pytorch\n",
    "\n",
    "Pytorch possibilita a criação de redes profundas com facilidade através do módulo 'nn'."
   ]
  },
  {
   "cell_type": "code",
   "execution_count": 1,
   "id": "6f353c32-ff2a-437d-8c88-a8ecbdc12d80",
   "metadata": {},
   "outputs": [],
   "source": [
    "import numpy as np\n",
    "import torch\n",
    "\n",
    "import matplotlib.pyplot as plt\n",
    "\n",
    "%matplotlib inline"
   ]
  },
  {
   "cell_type": "code",
   "execution_count": 2,
   "id": "8b183f30-f8e1-4ebd-bf74-3e2e46c17aa4",
   "metadata": {},
   "outputs": [],
   "source": [
    "import os\n",
    "os.environ['KMP_DUPLICATE_LIB_OK']='True'"
   ]
  },
  {
   "cell_type": "markdown",
   "id": "7bc32133-9364-442a-9045-0cdaac7547a5",
   "metadata": {},
   "source": [
    "Vamos usar o MNIST para esse teste, porém vamos usar como uma lista de valores  e não como uma imagem (CNN)"
   ]
  },
  {
   "cell_type": "code",
   "execution_count": 10,
   "id": "3e8a7fa6-d588-4ed3-80cf-70c9765cc6a4",
   "metadata": {},
   "outputs": [],
   "source": [
    "from torchvision import datasets, transforms\n",
    "from torch import nn"
   ]
  },
  {
   "cell_type": "code",
   "execution_count": 4,
   "id": "64c97d07-f846-4666-8799-b36a18a27e27",
   "metadata": {},
   "outputs": [],
   "source": [
    "# The MNIST datasets are hosted on yann.lecun.com that has moved under CloudFlare protection\n",
    "# Run this script to enable the datasets download\n",
    "# Reference: https://github.com/pytorch/vision/issues/1938\n",
    "\n",
    "from six.moves import urllib\n",
    "opener = urllib.request.build_opener()\n",
    "opener.addheaders = [('User-agent', 'Mozilla/5.0')]\n",
    "urllib.request.install_opener(opener)"
   ]
  },
  {
   "cell_type": "code",
   "execution_count": 5,
   "id": "f8d00fc4-08e1-494d-a097-ad91120a7061",
   "metadata": {},
   "outputs": [],
   "source": [
    "# definir a tranformação para normalizar os dados\n",
    "transform = transforms.Compose([\n",
    "    transforms.ToTensor(),\n",
    "    transforms.Normalize((0.5,), (0.5,))\n",
    "])\n"
   ]
  },
  {
   "cell_type": "code",
   "execution_count": 6,
   "id": "3357973e-0b7b-4067-b8d0-cd92843e7195",
   "metadata": {},
   "outputs": [],
   "source": [
    "# baixar o e caregar o dataset\n",
    "trainset = datasets.MNIST('MNIST_data/', download=True, train=True, transform=transform)\n",
    "trainloader = torch.utils.data.DataLoader(trainset, batch_size=64, shuffle=True)"
   ]
  },
  {
   "cell_type": "code",
   "execution_count": 7,
   "id": "8d5268e5-f4ef-4818-bbf2-dcd35119af00",
   "metadata": {},
   "outputs": [
    {
     "name": "stdout",
     "output_type": "stream",
     "text": [
      "<class 'torch.Tensor'>\n",
      "torch.Size([64, 1, 28, 28])\n",
      "torch.Size([64])\n"
     ]
    }
   ],
   "source": [
    "dataiter = iter(trainloader)\n",
    "images, labels = next(dataiter)\n",
    "\n",
    "print(type(images))\n",
    "print(images.shape)\n",
    "print(labels.shape)"
   ]
  },
  {
   "cell_type": "markdown",
   "id": "af7f85a7-d9a3-4837-acb1-7ee24c7caf74",
   "metadata": {},
   "source": [
    "Batchs de tamanho 64, como definido anteriormente, com amostras escolhidas randomicamente.\n",
    "\n",
    "[64, 1, 28, 28], 64 amostras, 1 canal, 28X28 é a dimensão \n"
   ]
  },
  {
   "cell_type": "code",
   "execution_count": 8,
   "id": "5d49df80-1d66-4700-aa37-3e740534ca40",
   "metadata": {},
   "outputs": [
    {
     "data": {
      "text/plain": [
       "<matplotlib.image.AxesImage at 0x151bd8eab00>"
      ]
     },
     "execution_count": 8,
     "metadata": {},
     "output_type": "execute_result"
    },
    {
     "data": {
      "image/png": "[encoded data removed]",
      "text/plain": [
       "<Figure size 640x480 with 1 Axes>"
      ]
     },
     "metadata": {},
     "output_type": "display_data"
    }
   ],
   "source": [
    "plt.imshow(images[1].numpy().squeeze() ,cmap='Greys_r')"
   ]
  },
  {
   "cell_type": "markdown",
   "id": "081d123b-2f9c-42b9-b655-ece3ee1da6c2",
   "metadata": {},
   "source": [
    "## Implementação da rede"
   ]
  },
  {
   "cell_type": "code",
   "execution_count": 10,
   "id": "d419aa65-456c-4900-bce8-01ee9ba9c297",
   "metadata": {},
   "outputs": [],
   "source": [
    "class Network(nn.Module):\n",
    "    \n",
    "    def __init__(self):\n",
    "        super().__init__()\n",
    "        \n",
    "        #camadas\n",
    "        self.hidden1 = nn.Linear(784, 128)\n",
    "        self.hidden2 = nn.Linear(128, 64)\n",
    "        self.output = nn.Linear( 64, 10)\n",
    "        \n",
    "        # funções de ativação\n",
    "        self.relu = nn.ReLU()\n",
    "        self.softmax = nn.Softmax()\n",
    "        \n",
    "        \n",
    "    def forward(self, x):\n",
    "        x = self.hidden1(x)\n",
    "        x = self.relu(x)\n",
    "        x = self.hidden2(x)\n",
    "        x = self.relu(x)\n",
    "        x = self.output(x)\n",
    "        x = self.softmax(x)\n",
    "        return x\n",
    "        "
   ]
  },
  {
   "cell_type": "code",
   "execution_count": 11,
   "id": "19a18a17-b79e-4843-aefc-befa64050a38",
   "metadata": {},
   "outputs": [],
   "source": [
    "model = Network()"
   ]
  },
  {
   "cell_type": "code",
   "execution_count": 12,
   "id": "42e8fc64-cc74-4c28-96b8-feec4cea2b8b",
   "metadata": {},
   "outputs": [
    {
     "data": {
      "text/plain": [
       "Network(\n",
       "  (hidden1): Linear(in_features=784, out_features=128, bias=True)\n",
       "  (hidden2): Linear(in_features=128, out_features=64, bias=True)\n",
       "  (output): Linear(in_features=64, out_features=10, bias=True)\n",
       "  (relu): ReLU()\n",
       "  (softmax): Softmax(dim=None)\n",
       ")"
      ]
     },
     "execution_count": 12,
     "metadata": {},
     "output_type": "execute_result"
    }
   ],
   "source": [
    "model"
   ]
  },
  {
   "cell_type": "markdown",
   "id": "4dfe46b4-a065-43fb-8ab7-2a43ba0e9ab7",
   "metadata": {},
   "source": [
    "### Implementando mesma redo usando **torch.nn.functional**"
   ]
  },
  {
   "cell_type": "code",
   "execution_count": 8,
   "id": "789d5ee3-b49c-4bdf-998c-752bd941d95d",
   "metadata": {},
   "outputs": [],
   "source": [
    "import torch.nn.functional as F"
   ]
  },
  {
   "cell_type": "code",
   "execution_count": 14,
   "id": "4a06ef0a-4971-4387-938a-09ec51246180",
   "metadata": {},
   "outputs": [],
   "source": [
    "class Network2(nn.Module):\n",
    "    \n",
    "    def __init__(self):\n",
    "        super().__init__()\n",
    "        \n",
    "        #camadas\n",
    "        self.hidden1 = nn.Linear(784, 128)\n",
    "        self.hidden2 = nn.Linear(128, 64)\n",
    "        self.output = nn.Linear( 64, 10)\n",
    "        \n",
    "        \n",
    "        \n",
    "    def forward(self, x):\n",
    "        x = F.relu( self.hidden1(x))\n",
    "        x = F.relu( self.hidden2(x))\n",
    "        x = F.softmax( self.output(x), dim=1)\n",
    "        \n",
    "        return x\n",
    "        "
   ]
  },
  {
   "cell_type": "code",
   "execution_count": 15,
   "id": "c4d79fe3-750b-41c2-9a42-debe92a6d798",
   "metadata": {},
   "outputs": [
    {
     "data": {
      "text/plain": [
       "Network2(\n",
       "  (hidden1): Linear(in_features=784, out_features=128, bias=True)\n",
       "  (hidden2): Linear(in_features=128, out_features=64, bias=True)\n",
       "  (output): Linear(in_features=64, out_features=10, bias=True)\n",
       ")"
      ]
     },
     "execution_count": 15,
     "metadata": {},
     "output_type": "execute_result"
    }
   ],
   "source": [
    "model2 = Network2()\n",
    "model2"
   ]
  },
  {
   "cell_type": "markdown",
   "id": "24d2fc2f-6199-4510-b82d-c329fdbcaa49",
   "metadata": {},
   "source": [
    "### Implementar usando o **nn.Sequential**"
   ]
  },
  {
   "cell_type": "code",
   "execution_count": 16,
   "id": "ef4fc3d4-3f62-48c2-ad34-7aa8afceb205",
   "metadata": {},
   "outputs": [
    {
     "name": "stdout",
     "output_type": "stream",
     "text": [
      "Sequential(\n",
      "  (0): Linear(in_features=784, out_features=128, bias=True)\n",
      "  (1): ReLU()\n",
      "  (2): Linear(in_features=128, out_features=64, bias=True)\n",
      "  (3): ReLU()\n",
      "  (4): Linear(in_features=64, out_features=10, bias=True)\n",
      "  (5): LogSoftmax(dim=1)\n",
      ")\n"
     ]
    }
   ],
   "source": [
    "model3 = nn.Sequential(nn.Linear(784,128),\n",
    "    nn.ReLU(),\n",
    "    nn.Linear(128, 64),\n",
    "    nn.ReLU(),\n",
    "    nn.Linear(64, 10),\n",
    "    nn.LogSoftmax(dim=1))\n",
    "\n",
    "print(model3)"
   ]
  },
  {
   "cell_type": "code",
   "execution_count": 17,
   "id": "4c0b3e55-a4c1-49f5-a640-75f87ac0b3db",
   "metadata": {},
   "outputs": [
    {
     "name": "stdout",
     "output_type": "stream",
     "text": [
      "Linear(in_features=784, out_features=128, bias=True)\n"
     ]
    },
    {
     "data": {
      "text/plain": [
       "Parameter containing:\n",
       "tensor([[ 0.0167, -0.0043,  0.0074,  ..., -0.0180,  0.0061,  0.0201],\n",
       "        [ 0.0261,  0.0322, -0.0182,  ...,  0.0330,  0.0323, -0.0199],\n",
       "        [ 0.0193,  0.0090,  0.0263,  ...,  0.0091, -0.0330,  0.0032],\n",
       "        ...,\n",
       "        [-0.0248,  0.0310, -0.0295,  ...,  0.0285,  0.0117,  0.0020],\n",
       "        [-0.0004, -0.0310,  0.0169,  ..., -0.0225, -0.0287, -0.0354],\n",
       "        [-0.0097,  0.0043,  0.0162,  ...,  0.0154, -0.0249, -0.0027]],\n",
       "       requires_grad=True)"
      ]
     },
     "execution_count": 17,
     "metadata": {},
     "output_type": "execute_result"
    }
   ],
   "source": [
    "print(model3[0])\n",
    "\n",
    "model3[0].weight"
   ]
  },
  {
   "cell_type": "markdown",
   "id": "135caec6-26c4-47c0-93b1-cddfd035ccc0",
   "metadata": {},
   "source": [
    "## Forward mais calculo de perda"
   ]
  },
  {
   "cell_type": "code",
   "execution_count": 18,
   "id": "b6210809-a83a-4f22-b5dc-c7d1da3a430b",
   "metadata": {},
   "outputs": [],
   "source": [
    "# Definição da função de perda (LOSS)\n",
    "criterion = nn.NLLLoss()"
   ]
  },
  {
   "cell_type": "code",
   "execution_count": 19,
   "id": "14318b9f-10df-4305-a736-95de48f9a75e",
   "metadata": {},
   "outputs": [],
   "source": [
    "# pegar o batch de amostras\n",
    "images, labels = next(iter(trainloader))\n",
    "\n",
    "# tornando unidimensional\n",
    "images = images.view(images.shape[0], -1)"
   ]
  },
  {
   "cell_type": "code",
   "execution_count": 20,
   "id": "6509d9da-2936-45db-8a7e-e1f8c89304af",
   "metadata": {},
   "outputs": [],
   "source": [
    "logits = model3(images)"
   ]
  },
  {
   "cell_type": "markdown",
   "id": "cf3a53b0-dca6-4932-bfca-ff0679a9a0f0",
   "metadata": {},
   "source": [
    "Calculo da Perda"
   ]
  },
  {
   "cell_type": "code",
   "execution_count": 21,
   "id": "82aece55-a193-4930-84ae-f2ca7deaf92b",
   "metadata": {},
   "outputs": [
    {
     "name": "stdout",
     "output_type": "stream",
     "text": [
      "tensor(2.3058, grad_fn=<NllLossBackward0>)\n"
     ]
    }
   ],
   "source": [
    "loss = criterion(logits, labels)\n",
    "print(loss)"
   ]
  },
  {
   "cell_type": "markdown",
   "id": "bc72201f-57c7-40d0-b73a-5ce1bd4baca1",
   "metadata": {},
   "source": [
    "## Backward \n",
    "\n",
    "Realiza o back propagation"
   ]
  },
  {
   "cell_type": "code",
   "execution_count": 22,
   "id": "deffc658-30ad-4216-a404-0fc635e6c2f9",
   "metadata": {},
   "outputs": [],
   "source": [
    "loss.backward()"
   ]
  },
  {
   "cell_type": "markdown",
   "id": "1ebdc9d3-6785-4e73-8997-6d18d3955caa",
   "metadata": {},
   "source": [
    "## Atualizar os pesos "
   ]
  },
  {
   "cell_type": "code",
   "execution_count": 13,
   "id": "ac77d196-1cf3-4aae-af38-2fbbcf5eb435",
   "metadata": {},
   "outputs": [],
   "source": [
    "from torch import optim\n"
   ]
  },
  {
   "cell_type": "code",
   "execution_count": 27,
   "id": "e1cb8647-a99a-44f4-9deb-3dc1af0003b4",
   "metadata": {},
   "outputs": [],
   "source": [
    "optimizer = optim.SGD(model3.parameters(), lr=0.003)"
   ]
  },
  {
   "cell_type": "markdown",
   "id": "c7914f1c-3f00-4cc8-bc14-5899d538af8a",
   "metadata": {},
   "source": [
    "Limpar os gradientes"
   ]
  },
  {
   "cell_type": "code",
   "execution_count": 28,
   "id": "16bb2217-3f11-4c4f-a03e-f6b881af1e0c",
   "metadata": {},
   "outputs": [],
   "source": [
    "optimizer.zero_grad()"
   ]
  },
  {
   "cell_type": "markdown",
   "id": "3d02ffe9-8aab-4b91-b238-70e9cd448d41",
   "metadata": {},
   "source": [
    "Atualizar os parametros (pesos)"
   ]
  },
  {
   "cell_type": "code",
   "execution_count": 29,
   "id": "c43672b1-9e14-496b-8515-238b2bba3eda",
   "metadata": {},
   "outputs": [],
   "source": [
    "optimizer.step()"
   ]
  },
  {
   "cell_type": "markdown",
   "id": "ede4ae37-c545-450a-9a05-4aa1288cd7ac",
   "metadata": {},
   "source": [
    "## Treinar a rede/"
   ]
  },
  {
   "cell_type": "code",
   "execution_count": 31,
   "id": "76dd993f-1672-4e04-a1ce-49eb0722437b",
   "metadata": {},
   "outputs": [
    {
     "name": "stdout",
     "output_type": "stream",
     "text": [
      "Training loss: 1.9455146607813805\n",
      "Training loss: 0.8783546877441122\n",
      "Training loss: 0.525199738742192\n",
      "Training loss: 0.4285314717431312\n",
      "Training loss: 0.3851222322185411\n"
     ]
    }
   ],
   "source": [
    "epochs = 5\n",
    "for e in range(epochs):\n",
    "    running_loss = 0\n",
    "    for images, labels in trainloader:\n",
    "        # Flatten MNIST images into a 784 long vector\n",
    "        images = images.view(images.shape[0], -1)\n",
    "    \n",
    "        optimizer.zero_grad()\n",
    "        \n",
    "        output = model3(images)\n",
    "        loss = criterion(output, labels)\n",
    "        loss.backward()\n",
    "        optimizer.step()\n",
    "        \n",
    "        running_loss += loss.item()\n",
    "    else:\n",
    "        print(f\"Training loss: {running_loss/len(trainloader)}\")"
   ]
  },
  {
   "cell_type": "markdown",
   "id": "faf78b18-c1a4-40fa-b929-ce20fde1746c",
   "metadata": {},
   "source": [
    "### Ver resultado"
   ]
  },
  {
   "cell_type": "code",
   "execution_count": 33,
   "id": "1f5df561-ad48-4c2e-a94b-9c82bcec9ae5",
   "metadata": {},
   "outputs": [],
   "source": [
    "images, labels = next(iter(trainloader))\n",
    "\n",
    "img = images[0].view(1, 784)\n",
    "# não computa os gradientes, acelarando a computação\n",
    "with torch.no_grad():\n",
    "    logps = model3(img)\n",
    "\n",
    "# Output of the network are log-probabilities, need to take exponential for probabilities\n",
    "ps = torch.exp(logps)"
   ]
  },
  {
   "cell_type": "code",
   "execution_count": 34,
   "id": "1e83c335-1329-4259-9d13-1d0b3e8fafb9",
   "metadata": {},
   "outputs": [
    {
     "data": {
      "text/plain": [
       "tensor([[2.5885e-01, 2.4462e-07, 7.4054e-04, 8.7290e-03, 3.4940e-06, 6.8472e-03,\n",
       "         1.2433e-06, 7.1087e-01, 1.6158e-03, 1.2350e-02]])"
      ]
     },
     "execution_count": 34,
     "metadata": {},
     "output_type": "execute_result"
    }
   ],
   "source": [
    "ps"
   ]
  },
  {
   "cell_type": "code",
   "execution_count": 40,
   "id": "e6e7d11e-4d1b-4e32-9266-65384e5cd0b1",
   "metadata": {},
   "outputs": [
    {
     "data": {
      "text/plain": [
       "tensor(0.7109)"
      ]
     },
     "execution_count": 40,
     "metadata": {},
     "output_type": "execute_result"
    }
   ],
   "source": [
    "torch.max(ps)"
   ]
  },
  {
   "cell_type": "code",
   "execution_count": 41,
   "id": "9bc778e6-7eea-4c3d-a7d6-a591cfaa1c42",
   "metadata": {},
   "outputs": [
    {
     "data": {
      "text/plain": [
       "tensor(7)"
      ]
     },
     "execution_count": 41,
     "metadata": {},
     "output_type": "execute_result"
    }
   ],
   "source": [
    "torch.argmax(ps)"
   ]
  },
  {
   "cell_type": "code",
   "execution_count": 42,
   "id": "05cf4bf8-4588-45ed-9bb4-f59e2ad3be27",
   "metadata": {},
   "outputs": [],
   "source": [
    "import matplotlib.pyplot as plt"
   ]
  },
  {
   "cell_type": "code",
   "execution_count": 43,
   "id": "f4d83e11-1e45-4d0b-9ec0-a49a959ae927",
   "metadata": {},
   "outputs": [
    {
     "data": {
      "image/png": "[encoded data removed]",
      "text/plain": [
       "<Figure size 640x480 with 1 Axes>"
      ]
     },
     "metadata": {},
     "output_type": "display_data"
    }
   ],
   "source": [
    "i = img.resize_(1, 28, 28).numpy().squeeze()\n",
    "plt.imshow(i)\n",
    "plt.show()"
   ]
  },
  {
   "cell_type": "markdown",
   "id": "3ce0a6b3-eb21-4e2c-8d6c-1f9b10dcc2c7",
   "metadata": {},
   "source": [
    "# Exemplo 2:\n",
    "\n",
    "usando o fashion mnist\n"
   ]
  },
  {
   "cell_type": "code",
   "execution_count": 4,
   "id": "3f9c4e8b-e803-4329-88fc-fbf54aee74c7",
   "metadata": {},
   "outputs": [],
   "source": [
    "import torch\n",
    "from torchvision import datasets, transforms\n",
    "\n",
    "# Define a transform to normalize the data\n",
    "transform = transforms.Compose([transforms.ToTensor(),\n",
    "                                transforms.Normalize((0.5,), (0.5,))])\n",
    "# Download and load the training data\n",
    "trainset = datasets.FashionMNIST('~/.pytorch/F_MNIST_data/', download=True, train=True, transform=transform)\n",
    "trainloader = torch.utils.data.DataLoader(trainset, batch_size=64, shuffle=True)\n",
    "\n",
    "# Download and load the test data\n",
    "testset = datasets.FashionMNIST('~/.pytorch/F_MNIST_data/', download=True, train=False, transform=transform)\n",
    "testloader = torch.utils.data.DataLoader(testset, batch_size=64, shuffle=True)"
   ]
  },
  {
   "cell_type": "code",
   "execution_count": 5,
   "id": "1c6d96c8-9f9e-4fa9-9f70-08b2aeb4e422",
   "metadata": {},
   "outputs": [],
   "source": [
    "image, label = next(iter(trainloader))\n"
   ]
  },
  {
   "cell_type": "code",
   "execution_count": 6,
   "id": "5dccde8e-2eea-4df6-a0fb-915411e15597",
   "metadata": {},
   "outputs": [
    {
     "data": {
      "image/png": "[encoded data removed]",
      "text/plain": [
       "<Figure size 640x480 with 1 Axes>"
      ]
     },
     "metadata": {},
     "output_type": "display_data"
    },
    {
     "name": "stdout",
     "output_type": "stream",
     "text": [
      "tensor(9)\n"
     ]
    }
   ],
   "source": [
    "plt.imshow(image[1,:].numpy().squeeze())\n",
    "plt.show()\n",
    "\n",
    "print(label[1])"
   ]
  },
  {
   "cell_type": "markdown",
   "id": "51751793-6ae1-4226-bb3e-e46e04bcecad",
   "metadata": {},
   "source": [
    "- Definição da Rede\n",
    "\n",
    "each image is 28x28 which is a total of 784 pixels, and there are 10 classes"
   ]
  },
  {
   "cell_type": "code",
   "execution_count": 11,
   "id": "3856267a-41ba-415e-8fc6-8f0093fff31a",
   "metadata": {},
   "outputs": [
    {
     "name": "stdout",
     "output_type": "stream",
     "text": [
      "Sequential(\n",
      "  (0): Linear(in_features=784, out_features=128, bias=True)\n",
      "  (1): ReLU()\n",
      "  (2): Linear(in_features=128, out_features=64, bias=True)\n",
      "  (3): ReLU()\n",
      "  (4): Linear(in_features=64, out_features=10, bias=True)\n",
      "  (5): LogSoftmax(dim=1)\n",
      ")\n"
     ]
    }
   ],
   "source": [
    "model_fashion = nn.Sequential(nn.Linear(784,128),\n",
    "    nn.ReLU(),\n",
    "    nn.Linear(128, 64),\n",
    "    nn.ReLU(),\n",
    "    nn.Linear(64, 10),\n",
    "    nn.LogSoftmax(dim=1))\n",
    "\n",
    "print(model_fashion)"
   ]
  },
  {
   "cell_type": "markdown",
   "id": "88da0630-8b00-4c35-aefa-c5d816840b02",
   "metadata": {},
   "source": [
    "Create your network and train it. First you'll want to define the criterion ( something like nn.CrossEntropyLoss) and the optimizer (typically optim.SGD or optim.Adam).\n",
    "\n",
    "Then write the training code. Remember the training pass is a fairly straightforward process:\n",
    "\n",
    "Make a forward pass through the network to get the logits\n",
    "Use the logits to calculate the loss\n",
    "Perform a backward pass through the network with loss.backward() to calculate the gradients\n",
    "Take a step with the optimizer to update the weights"
   ]
  },
  {
   "cell_type": "code",
   "execution_count": 14,
   "id": "785a8903-ba14-48c9-89d8-2d8b35b44efb",
   "metadata": {},
   "outputs": [],
   "source": [
    "criterion_fashion = nn.CrossEntropyLoss()"
   ]
  },
  {
   "cell_type": "code",
   "execution_count": 15,
   "id": "d80f2d72-47fd-4f67-8e23-34b920859909",
   "metadata": {},
   "outputs": [],
   "source": [
    "optimizer_fashion = optim.SGD(model_fashion.parameters(), lr=0.03)"
   ]
  },
  {
   "cell_type": "code",
   "execution_count": 17,
   "id": "dcb7cc80-4fca-4921-94c9-99e6789a9c7e",
   "metadata": {},
   "outputs": [
    {
     "name": "stdout",
     "output_type": "stream",
     "text": [
      "Training loss: 0.34489862848001757\n",
      "Training loss: 0.33042712913933336\n",
      "Training loss: 0.3190713670652813\n",
      "Training loss: 0.3078495657313734\n",
      "Training loss: 0.29697791156547665\n",
      "Training loss: 0.2893902393244604\n",
      "Training loss: 0.28152174399351515\n",
      "Training loss: 0.2734450248957697\n",
      "Training loss: 0.265726719289891\n",
      "Training loss: 0.2587859367113759\n"
     ]
    }
   ],
   "source": [
    "epochs = 10\n",
    "for e in range(epochs):\n",
    "    running_loss = 0\n",
    "    for images, labels in trainloader:\n",
    "        # Flatten MNIST images into a 784 long vector\n",
    "        images = images.view(images.shape[0], -1)\n",
    "    \n",
    "        optimizer_fashion.zero_grad()\n",
    "        \n",
    "        output = model_fashion(images)\n",
    "        loss = criterion_fashion(output, labels)\n",
    "        loss.backward()\n",
    "        optimizer_fashion.step()\n",
    "        \n",
    "        running_loss += loss.item()\n",
    "    else:\n",
    "        print(f\"Training loss: {running_loss/len(trainloader)}\")"
   ]
  },
  {
   "cell_type": "code",
   "execution_count": null,
   "id": "5401af88-6afd-4d8b-9ff5-2cd2bb092802",
   "metadata": {},
   "outputs": [],
   "source": []
  }
 ],
 "metadata": {
  "kernelspec": {
   "display_name": "Python 3 (ipykernel)",
   "language": "python",
   "name": "python3"
  },
  "language_info": {
   "codemirror_mode": {
    "name": "ipython",
    "version": 3
   },
   "file_extension": ".py",
   "mimetype": "text/x-python",
   "name": "python",
   "nbconvert_exporter": "python",
   "pygments_lexer": "ipython3",
   "version": "3.10.9"
  }
 },
 "nbformat": 4,
 "nbformat_minor": 5
}
