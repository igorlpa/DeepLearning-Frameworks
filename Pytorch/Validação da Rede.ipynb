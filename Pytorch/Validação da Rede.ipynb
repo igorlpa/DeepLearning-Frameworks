{
 "cells": [
  {
   "cell_type": "markdown",
   "id": "016a3c0e-acef-4fe3-b445-f734bec58b3a",
   "metadata": {},
   "source": [
    "# Validação do treinamento\n",
    "\n",
    "\n",
    "Baixando dataset de treinamento e de validação"
   ]
  },
  {
   "cell_type": "code",
   "execution_count": 2,
   "id": "d2ff6ea6-e32e-4f11-bd4f-7f6e69ceef1b",
   "metadata": {},
   "outputs": [],
   "source": [
    "import torch\n",
    "from torchvision import datasets, transforms\n",
    "\n",
    "# Define a transform to normalize the data\n",
    "transform = transforms.Compose([transforms.ToTensor(),\n",
    "                                transforms.Normalize((0.5,), (0.5,))])\n",
    "# Download and load the training data\n",
    "trainset = datasets.FashionMNIST('~/.pytorch/F_MNIST_data/', download=True, train=True, transform=transform)\n",
    "trainloader = torch.utils.data.DataLoader(trainset, batch_size=64, shuffle=True)\n",
    "\n",
    "# Download and load the test data\n",
    "testset = datasets.FashionMNIST('~/.pytorch/F_MNIST_data/', download=True, train=False, transform=transform)\n",
    "testloader = torch.utils.data.DataLoader(testset, batch_size=64, shuffle=True)"
   ]
  },
  {
   "cell_type": "code",
   "execution_count": 3,
   "id": "a16ab191-7c16-4d5a-89b8-eca248840699",
   "metadata": {},
   "outputs": [],
   "source": [
    "import os\n",
    "os.environ['KMP_DUPLICATE_LIB_OK']='True'"
   ]
  },
  {
   "cell_type": "markdown",
   "id": "c532b645-30e9-41a3-b852-61f4952eea72",
   "metadata": {},
   "source": [
    "## Rede"
   ]
  },
  {
   "cell_type": "code",
   "execution_count": 14,
   "id": "46ee9c89-896d-467f-b17b-31f9e9d68afc",
   "metadata": {},
   "outputs": [],
   "source": [
    "from torch import nn, optim\n",
    "import torch.nn.functional as F\n",
    "\n",
    "class Classifier(nn.Module):\n",
    "    def __init__(self):\n",
    "        super().__init__()\n",
    "        self.fc1 = nn.Linear(784, 256)\n",
    "        self.fc2 = nn.Linear(256, 128)\n",
    "        self.fc3 = nn.Linear(128, 64)\n",
    "        self.fc4 = nn.Linear(64, 10)\n",
    "        self.dropOut = nn.Dropout(0.2)\n",
    "        \n",
    "    def forward(self, x):\n",
    "        # garante um vetor de uma dimensão\n",
    "        x = x.view(x.shape[0], -1)\n",
    "        \n",
    "        x = F.relu(self.fc1(x))\n",
    "        x = self.dropOut(x)\n",
    "        x = F.relu(self.fc2(x))\n",
    "        x = self.dropOut(x)\n",
    "        x = F.relu(self.fc3(x))\n",
    "        x = self.dropOut(x)\n",
    "        \n",
    "        x = F.log_softmax(self.fc4(x), dim=1)\n",
    "        \n",
    "        return x"
   ]
  },
  {
   "cell_type": "markdown",
   "id": "a44d6883-247b-4a56-b59b-52a72db0b423",
   "metadata": {},
   "source": [
    "### Acuracia sem treinamento"
   ]
  },
  {
   "cell_type": "code",
   "execution_count": 15,
   "id": "b7270ade-4d5e-4c87-ba1f-5c1581ccbf2d",
   "metadata": {},
   "outputs": [
    {
     "name": "stdout",
     "output_type": "stream",
     "text": [
      "torch.Size([64, 10])\n"
     ]
    }
   ],
   "source": [
    "model = Classifier()\n",
    "\n",
    "images, labels = next(iter(testloader))\n",
    "# Get the class probabilities\n",
    "ps = torch.exp(model(images))\n",
    "# Make sure the shape is appropriate, we should get 10 class probabilities for 64 examples\n",
    "print(ps.shape)"
   ]
  },
  {
   "cell_type": "markdown",
   "id": "b58bec6c-a44a-4fbd-8952-21147c301a08",
   "metadata": {},
   "source": [
    "- ***ps.topk***\n",
    "\n",
    "Retorna os k maiores valores.\n",
    "\n",
    "Para retornar apenas a classe mais semelhante usamos *ps.topk(1)*. \n",
    "\n",
    "Retorna uma tupla de top-valores e top-indices"
   ]
  },
  {
   "cell_type": "code",
   "execution_count": 16,
   "id": "c22885fc-6864-447a-90e4-c5c3a445d06d",
   "metadata": {},
   "outputs": [
    {
     "name": "stdout",
     "output_type": "stream",
     "text": [
      "tensor([[2],\n",
      "        [2],\n",
      "        [2],\n",
      "        [2],\n",
      "        [2],\n",
      "        [2],\n",
      "        [2],\n",
      "        [2],\n",
      "        [2],\n",
      "        [2]])\n"
     ]
    }
   ],
   "source": [
    "top_p, top_class = ps.topk(1, dim=1)\n",
    "# Look at the most likely classes for the first 10 examples\n",
    "print(top_class[:10,:])"
   ]
  },
  {
   "cell_type": "code",
   "execution_count": 17,
   "id": "23ce6379-40d9-4dc9-91c7-3eb2e301b83b",
   "metadata": {},
   "outputs": [
    {
     "data": {
      "text/plain": [
       "tensor([[False],\n",
       "        [ True],\n",
       "        [False],\n",
       "        [False],\n",
       "        [False],\n",
       "        [False],\n",
       "        [False],\n",
       "        [False],\n",
       "        [False],\n",
       "        [False]])"
      ]
     },
     "execution_count": 17,
     "metadata": {},
     "output_type": "execute_result"
    }
   ],
   "source": [
    "equals = top_class == labels.view(*top_class.shape)\n",
    "equals[:10]"
   ]
  },
  {
   "cell_type": "code",
   "execution_count": 18,
   "id": "8b89d345-d9aa-4b24-8c08-14a655fc52e0",
   "metadata": {},
   "outputs": [
    {
     "ename": "RuntimeError",
     "evalue": "mean(): could not infer output dtype. Input dtype must be either a floating point or complex dtype. Got: Bool",
     "output_type": "error",
     "traceback": [
      "\u001b[1;31m---------------------------------------------------------------------------\u001b[0m",
      "\u001b[1;31mRuntimeError\u001b[0m                              Traceback (most recent call last)",
      "Cell \u001b[1;32mIn[18], line 1\u001b[0m\n\u001b[1;32m----> 1\u001b[0m accuracy \u001b[38;5;241m=\u001b[39m \u001b[43mtorch\u001b[49m\u001b[38;5;241;43m.\u001b[39;49m\u001b[43mmean\u001b[49m\u001b[43m(\u001b[49m\u001b[43mequals\u001b[49m\u001b[43m)\u001b[49m\n\u001b[0;32m      2\u001b[0m \u001b[38;5;28mprint\u001b[39m(\u001b[38;5;124mf\u001b[39m\u001b[38;5;124m'\u001b[39m\u001b[38;5;124mAccuracy: \u001b[39m\u001b[38;5;132;01m{\u001b[39;00maccuracy\u001b[38;5;241m.\u001b[39mitem()\u001b[38;5;241m*\u001b[39m\u001b[38;5;241m100\u001b[39m\u001b[38;5;132;01m}\u001b[39;00m\u001b[38;5;124m%\u001b[39m\u001b[38;5;124m'\u001b[39m)\n",
      "\u001b[1;31mRuntimeError\u001b[0m: mean(): could not infer output dtype. Input dtype must be either a floating point or complex dtype. Got: Bool"
     ]
    }
   ],
   "source": [
    "accuracy = torch.mean(equals)\n",
    "print(f'Accuracy: {accuracy.item()*100}%')"
   ]
  },
  {
   "cell_type": "code",
   "execution_count": 19,
   "id": "fbe6717d-f17d-408d-9876-2b583b2f142c",
   "metadata": {},
   "outputs": [
    {
     "name": "stdout",
     "output_type": "stream",
     "text": [
      "Accuracy: 10.9375%\n"
     ]
    }
   ],
   "source": [
    "accuracy = torch.mean(equals.type(torch.FloatTensor))\n",
    "print(f'Accuracy: {accuracy.item()*100}%')"
   ]
  },
  {
   "cell_type": "markdown",
   "id": "10b3b50c-5604-4f19-babf-c21d141240a1",
   "metadata": {},
   "source": [
    "## Treinamento com validação"
   ]
  },
  {
   "cell_type": "code",
   "execution_count": 20,
   "id": "f280fea7-d62e-43c2-a055-a27ea43f5a3e",
   "metadata": {},
   "outputs": [],
   "source": [
    "model = Classifier()\n",
    "criterion = nn.NLLLoss()\n",
    "optimizer = optim.Adam(model.parameters(), lr=0.003)"
   ]
  },
  {
   "cell_type": "code",
   "execution_count": 21,
   "id": "ca27b384-d8cd-4456-abd8-48d3234c1855",
   "metadata": {},
   "outputs": [
    {
     "name": "stdout",
     "output_type": "stream",
     "text": [
      "Epoch: 1/25..  Training Loss: 0.010..  Test Loss: 0.008..  Test Accuracy: 0.824\n",
      "Epoch: 2/25..  Training Loss: 0.008..  Test Loss: 0.007..  Test Accuracy: 0.838\n",
      "Epoch: 3/25..  Training Loss: 0.007..  Test Loss: 0.006..  Test Accuracy: 0.847\n",
      "Epoch: 4/25..  Training Loss: 0.007..  Test Loss: 0.006..  Test Accuracy: 0.853\n",
      "Epoch: 5/25..  Training Loss: 0.007..  Test Loss: 0.006..  Test Accuracy: 0.852\n",
      "Epoch: 6/25..  Training Loss: 0.006..  Test Loss: 0.006..  Test Accuracy: 0.859\n",
      "Epoch: 7/25..  Training Loss: 0.006..  Test Loss: 0.006..  Test Accuracy: 0.855\n",
      "Epoch: 8/25..  Training Loss: 0.006..  Test Loss: 0.006..  Test Accuracy: 0.859\n",
      "Epoch: 9/25..  Training Loss: 0.006..  Test Loss: 0.006..  Test Accuracy: 0.862\n",
      "Epoch: 10/25..  Training Loss: 0.006..  Test Loss: 0.006..  Test Accuracy: 0.863\n",
      "Epoch: 11/25..  Training Loss: 0.006..  Test Loss: 0.006..  Test Accuracy: 0.866\n",
      "Epoch: 12/25..  Training Loss: 0.006..  Test Loss: 0.006..  Test Accuracy: 0.863\n",
      "Epoch: 13/25..  Training Loss: 0.006..  Test Loss: 0.006..  Test Accuracy: 0.867\n",
      "Epoch: 14/25..  Training Loss: 0.006..  Test Loss: 0.006..  Test Accuracy: 0.872\n",
      "Epoch: 15/25..  Training Loss: 0.006..  Test Loss: 0.006..  Test Accuracy: 0.866\n",
      "Epoch: 16/25..  Training Loss: 0.006..  Test Loss: 0.006..  Test Accuracy: 0.861\n",
      "Epoch: 17/25..  Training Loss: 0.006..  Test Loss: 0.006..  Test Accuracy: 0.870\n",
      "Epoch: 18/25..  Training Loss: 0.006..  Test Loss: 0.006..  Test Accuracy: 0.869\n",
      "Epoch: 19/25..  Training Loss: 0.006..  Test Loss: 0.006..  Test Accuracy: 0.863\n",
      "Epoch: 20/25..  Training Loss: 0.006..  Test Loss: 0.006..  Test Accuracy: 0.866\n",
      "Epoch: 21/25..  Training Loss: 0.006..  Test Loss: 0.006..  Test Accuracy: 0.869\n",
      "Epoch: 22/25..  Training Loss: 0.006..  Test Loss: 0.006..  Test Accuracy: 0.865\n",
      "Epoch: 23/25..  Training Loss: 0.005..  Test Loss: 0.006..  Test Accuracy: 0.872\n",
      "Epoch: 24/25..  Training Loss: 0.005..  Test Loss: 0.006..  Test Accuracy: 0.873\n",
      "Epoch: 25/25..  Training Loss: 0.006..  Test Loss: 0.006..  Test Accuracy: 0.873\n"
     ]
    }
   ],
   "source": [
    "epochs = 25\n",
    "steps = 0\n",
    "\n",
    "train_losses, test_losses = [], []\n",
    "for e in range(epochs):\n",
    "    model.train()\n",
    "    running_loss = 0\n",
    "    for images, labels in trainloader:\n",
    "        \n",
    "        optimizer.zero_grad()\n",
    "        \n",
    "        log_ps = model(images)\n",
    "        loss = criterion(log_ps, labels)\n",
    "        loss.backward()\n",
    "        optimizer.step()\n",
    "        \n",
    "        running_loss += loss.item()\n",
    "        \n",
    "    else:\n",
    "        with torch.no_grad():\n",
    "            model.eval()\n",
    "            test_loss = 0\n",
    "            test_correct = 0\n",
    "            \n",
    "            for images, labels in testloader:\n",
    "                log_ps = model(images)\n",
    "                loss = criterion(log_ps, labels)                \n",
    "                test_loss += loss.item()\n",
    "                \n",
    "                ps = torch.exp(log_ps)\n",
    "                top_p, top_class = ps.topk(1, dim=1)\n",
    "                \n",
    "                equals = top_class == labels.view(*top_class.shape)\n",
    "                # soma de respostas corretas em todos os batchs\n",
    "                test_correct += equals.sum().item()\n",
    "            \n",
    "        train_loss = running_loss / len(trainloader.dataset)\n",
    "        test_loss = test_loss / len(testloader.dataset)\n",
    "        \n",
    "        # fim da epoca\n",
    "        train_losses.append(train_loss)\n",
    "        test_losses.append(test_loss)\n",
    "\n",
    "\n",
    "        print(\"Epoch: {}/{}.. \".format(e+1, epochs),\n",
    "              \"Training Loss: {:.3f}.. \".format(train_loss),\n",
    "              \"Test Loss: {:.3f}.. \".format(test_loss),\n",
    "              \"Test Accuracy: {:.3f}\".format(test_correct / len(testloader.dataset)))\n",
    "        "
   ]
  },
  {
   "cell_type": "markdown",
   "id": "f83a494b-4f85-420f-a9bc-c32e83fc5f8b",
   "metadata": {},
   "source": [
    "- **Plotar resultado**"
   ]
  },
  {
   "cell_type": "code",
   "execution_count": 22,
   "id": "879dc2ef-9878-449e-8009-12ca1ad88a72",
   "metadata": {},
   "outputs": [],
   "source": [
    "%matplotlib inline\n",
    "%config InlineBackend.figure_format = 'retina'\n",
    "\n",
    "import matplotlib.pyplot as plt"
   ]
  },
  {
   "cell_type": "code",
   "execution_count": 23,
   "id": "7767df8d-5737-4029-af28-e99964b32bea",
   "metadata": {},
   "outputs": [
    {
     "data": {
      "text/plain": [
       "<matplotlib.legend.Legend at 0x25d20863730>"
      ]
     },
     "execution_count": 23,
     "metadata": {},
     "output_type": "execute_result"
    },
    {
     "data": {
      "image/png": "[encoded data removed]",
      "text/plain": [
       "<Figure size 640x480 with 1 Axes>"
      ]
     },
     "metadata": {
      "image/png": {
       "height": 413,
       "width": 570
      }
     },
     "output_type": "display_data"
    }
   ],
   "source": [
    "plt.plot(train_losses, label='Training loss')\n",
    "plt.plot(test_losses, label='Validation loss')\n",
    "plt.legend(frameon=False)"
   ]
  },
  {
   "cell_type": "markdown",
   "id": "a7a3f6fc-1548-4ab4-bf43-6aae74e2dd16",
   "metadata": {},
   "source": [
    "## salvar e carregar os modelos\n",
    "\n",
    "São salvos os parametros aprendidos (pesos e bias). Dessa maneira, a arquitetrura da rede deve ser definida hardcoded.\n",
    "O Tensoflow salva também as informações da rede, para fazer isso com o **Pytorch** deve-se salvar como **onnx**"
   ]
  },
  {
   "cell_type": "code",
   "execution_count": 24,
   "id": "6a3707d8-b1c3-4817-b62b-27dc6a6d4a68",
   "metadata": {},
   "outputs": [],
   "source": [
    "torch.save(model.state_dict(), 'checkpoint.pth')"
   ]
  },
  {
   "cell_type": "markdown",
   "id": "ee95b152-3592-4720-a8d8-704ad0fb5f54",
   "metadata": {},
   "source": [
    "- Carregando\n",
    "\n",
    "O modelo deve ser criado e depois recebe os parametros carregados"
   ]
  },
  {
   "cell_type": "raw",
   "id": "2420ece6-6f45-49d8-9131-6721b08ece62",
   "metadata": {},
   "source": [
    "state_dict = torch.load('checkpoint.pth')\n",
    "model.load_state_dict(state_dict)"
   ]
  }
 ],
 "metadata": {
  "kernelspec": {
   "display_name": "Python 3 (ipykernel)",
   "language": "python",
   "name": "python3"
  },
  "language_info": {
   "codemirror_mode": {
    "name": "ipython",
    "version": 3
   },
   "file_extension": ".py",
   "mimetype": "text/x-python",
   "name": "python",
   "nbconvert_exporter": "python",
   "pygments_lexer": "ipython3",
   "version": "3.10.9"
  }
 },
 "nbformat": 4,
 "nbformat_minor": 5
}
